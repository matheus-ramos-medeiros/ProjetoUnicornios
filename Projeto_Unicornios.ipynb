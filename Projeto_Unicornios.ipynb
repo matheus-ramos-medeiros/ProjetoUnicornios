{
  "nbformat": 4,
  "nbformat_minor": 0,
  "metadata": {
    "colab": {
      "provenance": [],
      "mount_file_id": "1HJ-ja8GCeZwKA4MKfmpJ6XxkU7BrUQLV",
      "authorship_tag": "ABX9TyOzHUlyhwzytIegmTSDfzAZ",
      "include_colab_link": true
    },
    "kernelspec": {
      "name": "python3",
      "display_name": "Python 3"
    },
    "language_info": {
      "name": "python"
    }
  },
  "cells": [
    {
      "cell_type": "markdown",
      "metadata": {
        "id": "view-in-github",
        "colab_type": "text"
      },
      "source": [
        "<a href=\"https://colab.research.google.com/github/matheus-ramos-medeiros/ProjetoUnicornios/blob/main/Projeto_Unicornios.ipynb\" target=\"_parent\"><img src=\"https://colab.research.google.com/assets/colab-badge.svg\" alt=\"Open In Colab\"/></a>"
      ]
    },
    {
      "cell_type": "markdown",
      "source": [
        "# **Projeto Unicórnio**\n",
        "\n",
        "\"Unicórnio\" é um termo usado na indústria de capital de risco para descrever uma startup de capital fechado com valor superior a US$ 1 bilhão. O termo foi popularizado pela primeira vez pela capitalista de risco Aileen Lee, fundadora da Cowboy Ventures, um fundo de capital de risco com sede em Palo Alto, Califórnia.\n",
        "\n",
        "O nome \"unicórnio\" faz alusão à raridade dessas empresas, assim como a criatura mítica que é difícil de encontrar."
      ],
      "metadata": {
        "id": "XrGmh2FmXWts"
      }
    },
    {
      "cell_type": "markdown",
      "source": [
        "![startup-unicornio-o-que-é.png](data:image/png;base64,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)"
      ],
      "metadata": {
        "id": "NK0lyDC3PHXx"
      }
    },
    {
      "cell_type": "markdown",
      "source": [
        "# **Sobre o conjunto de dados** <p>\n",
        "\n",
        "O conjunto de dados esta na plataforma Kaggle, é uma plataforma para cientistas de dados, engenheiros de aprendizado de máquina e outros profissionais competirem em desafios de ciência de dados, colaborarem em projetos de dados e desenvolverem habilidades em análise de dados e aprendizado de máquina.\n",
        "\n",
        "O Kaggle hospeda uma ampla gama de competições de ciência de dados, desde a previsão de preços de ações até o reconhecimento de imagens, e fornece aos participantes conjuntos de dados, ferramentas e recursos para ajudá-los a construir e testar seus modelos. As competições são avaliadas com base na precisão e rapidez das previsões dos participantes.\n",
        "\n",
        "Além das competições, o Kaggle também hospeda conjuntos de dados para uso público, oferece cursos e tutoriais em ciência de dados e aprendizado de máquina e fornece uma comunidade para cientistas de dados compartilharem conhecimento e colaborarem em projetos.\n",
        "\n",
        "Vamos analisar os unicórnios gerados de 2007 até 2021.\n",
        "\n",
        "\n",
        "[Download da base de dados](https://www.kaggle.com/ramjasmaurya/unicorn-startups)\n"
      ],
      "metadata": {
        "id": "fZ85sxEJRuKX"
      }
    },
    {
      "cell_type": "markdown",
      "source": [
        "## Levantando das hipóteses\n",
        "\n",
        "\n",
        "*   Qual setor é o predominante?\n",
        "*   ual ano foi predominante?\n",
        "*   Qual país tem mais empresas?\n",
        "*   O Brasil é expressivo dentros dos paises que geram unicórnios?\n"
      ],
      "metadata": {
        "id": "QZYnpUl0eG5L"
      }
    },
    {
      "cell_type": "code",
      "source": [
        "# Importando os Pacotes\n",
        "import pandas as pd\n",
        "import numpy as np\n",
        "import matplotlib.pyplot as plt\n",
        "import seaborn as sns\n",
        "# Retiando os avisos do Colab\n",
        "import warnings\n",
        "warnings.filterwarnings('ignore')"
      ],
      "metadata": {
        "id": "8ttHomKmms_t"
      },
      "execution_count": 1,
      "outputs": []
    },
    {
      "cell_type": "code",
      "source": [
        "# Acessando o meu drive\n",
        "from  google.colab import drive\n",
        "drive.mount('/content/drive')"
      ],
      "metadata": {
        "colab": {
          "base_uri": "https://localhost:8080/"
        },
        "id": "TuLJ9C03q84f",
        "outputId": "00bfa952-b5e5-4e6c-af7a-07226d222c7d"
      },
      "execution_count": 2,
      "outputs": [
        {
          "output_type": "stream",
          "name": "stdout",
          "text": [
            "Drive already mounted at /content/drive; to attempt to forcibly remount, call drive.mount(\"/content/drive\", force_remount=True).\n"
          ]
        }
      ]
    },
    {
      "cell_type": "code",
      "execution_count": 3,
      "metadata": {
        "colab": {
          "base_uri": "https://localhost:8080/"
        },
        "id": "lVRlZ7TpmbWo",
        "outputId": "ae1291a0-e27e-4d60-ccdc-aa7896fe3700"
      },
      "outputs": [
        {
          "output_type": "stream",
          "name": "stdout",
          "text": [
            "A base de dados tem 936 linhas e 8 linhas.\n"
          ]
        }
      ],
      "source": [
        "# Lendo o arquivo\n",
        "Base = pd.read_csv('/content/drive/MyDrive/Startups+in+2021+end.csv')\n",
        "\n",
        "# Verificando Dimensões\n",
        "print('A base de dados tem',Base.shape[0],'linhas e',Base.shape[1],'linhas.')"
      ]
    },
    {
      "cell_type": "code",
      "source": [
        "# Primeiros registros\n",
        "Base.head()"
      ],
      "metadata": {
        "colab": {
          "base_uri": "https://localhost:8080/",
          "height": 206
        },
        "id": "BHRjG-k3vQm1",
        "outputId": "ac2b0be5-1792-4630-ec08-6c515f399b39"
      },
      "execution_count": 4,
      "outputs": [
        {
          "output_type": "execute_result",
          "data": {
            "text/plain": [
              "   Unnamed: 0    Company Valuation ($B) Date Joined        Country  \\\n",
              "0           0  Bytedance           $140    4/7/2017          China   \n",
              "1           1     SpaceX         $100.3   12/1/2012  United States   \n",
              "2           2     Stripe            $95   1/23/2014  United States   \n",
              "3           3     Klarna          $45.6  12/12/2011         Sweden   \n",
              "4           4      Canva            $40    1/8/2018      Australia   \n",
              "\n",
              "            City                      Industry  \\\n",
              "0        Beijing       Artificial intelligence   \n",
              "1      Hawthorne                         Other   \n",
              "2  San Francisco                       Fintech   \n",
              "3      Stockholm                       Fintech   \n",
              "4    Surry Hills  Internet software & services   \n",
              "\n",
              "                                    Select Investors  \n",
              "0  Sequoia Capital China, SIG Asia Investments, S...  \n",
              "1  Founders Fund, Draper Fisher Jurvetson, Rothen...  \n",
              "2        Khosla Ventures, LowercaseCapital, capitalG  \n",
              "3  Institutional Venture Partners, Sequoia Capita...  \n",
              "4  Sequoia Capital China, Blackbird Ventures, Mat...  "
            ],
            "text/html": [
              "\n",
              "  <div id=\"df-0de7cbf6-5196-4f8c-811c-58e7741f03b1\">\n",
              "    <div class=\"colab-df-container\">\n",
              "      <div>\n",
              "<style scoped>\n",
              "    .dataframe tbody tr th:only-of-type {\n",
              "        vertical-align: middle;\n",
              "    }\n",
              "\n",
              "    .dataframe tbody tr th {\n",
              "        vertical-align: top;\n",
              "    }\n",
              "\n",
              "    .dataframe thead th {\n",
              "        text-align: right;\n",
              "    }\n",
              "</style>\n",
              "<table border=\"1\" class=\"dataframe\">\n",
              "  <thead>\n",
              "    <tr style=\"text-align: right;\">\n",
              "      <th></th>\n",
              "      <th>Unnamed: 0</th>\n",
              "      <th>Company</th>\n",
              "      <th>Valuation ($B)</th>\n",
              "      <th>Date Joined</th>\n",
              "      <th>Country</th>\n",
              "      <th>City</th>\n",
              "      <th>Industry</th>\n",
              "      <th>Select Investors</th>\n",
              "    </tr>\n",
              "  </thead>\n",
              "  <tbody>\n",
              "    <tr>\n",
              "      <th>0</th>\n",
              "      <td>0</td>\n",
              "      <td>Bytedance</td>\n",
              "      <td>$140</td>\n",
              "      <td>4/7/2017</td>\n",
              "      <td>China</td>\n",
              "      <td>Beijing</td>\n",
              "      <td>Artificial intelligence</td>\n",
              "      <td>Sequoia Capital China, SIG Asia Investments, S...</td>\n",
              "    </tr>\n",
              "    <tr>\n",
              "      <th>1</th>\n",
              "      <td>1</td>\n",
              "      <td>SpaceX</td>\n",
              "      <td>$100.3</td>\n",
              "      <td>12/1/2012</td>\n",
              "      <td>United States</td>\n",
              "      <td>Hawthorne</td>\n",
              "      <td>Other</td>\n",
              "      <td>Founders Fund, Draper Fisher Jurvetson, Rothen...</td>\n",
              "    </tr>\n",
              "    <tr>\n",
              "      <th>2</th>\n",
              "      <td>2</td>\n",
              "      <td>Stripe</td>\n",
              "      <td>$95</td>\n",
              "      <td>1/23/2014</td>\n",
              "      <td>United States</td>\n",
              "      <td>San Francisco</td>\n",
              "      <td>Fintech</td>\n",
              "      <td>Khosla Ventures, LowercaseCapital, capitalG</td>\n",
              "    </tr>\n",
              "    <tr>\n",
              "      <th>3</th>\n",
              "      <td>3</td>\n",
              "      <td>Klarna</td>\n",
              "      <td>$45.6</td>\n",
              "      <td>12/12/2011</td>\n",
              "      <td>Sweden</td>\n",
              "      <td>Stockholm</td>\n",
              "      <td>Fintech</td>\n",
              "      <td>Institutional Venture Partners, Sequoia Capita...</td>\n",
              "    </tr>\n",
              "    <tr>\n",
              "      <th>4</th>\n",
              "      <td>4</td>\n",
              "      <td>Canva</td>\n",
              "      <td>$40</td>\n",
              "      <td>1/8/2018</td>\n",
              "      <td>Australia</td>\n",
              "      <td>Surry Hills</td>\n",
              "      <td>Internet software &amp; services</td>\n",
              "      <td>Sequoia Capital China, Blackbird Ventures, Mat...</td>\n",
              "    </tr>\n",
              "  </tbody>\n",
              "</table>\n",
              "</div>\n",
              "      <button class=\"colab-df-convert\" onclick=\"convertToInteractive('df-0de7cbf6-5196-4f8c-811c-58e7741f03b1')\"\n",
              "              title=\"Convert this dataframe to an interactive table.\"\n",
              "              style=\"display:none;\">\n",
              "        \n",
              "  <svg xmlns=\"http://www.w3.org/2000/svg\" height=\"24px\"viewBox=\"0 0 24 24\"\n",
              "       width=\"24px\">\n",
              "    <path d=\"M0 0h24v24H0V0z\" fill=\"none\"/>\n",
              "    <path d=\"M18.56 5.44l.94 2.06.94-2.06 2.06-.94-2.06-.94-.94-2.06-.94 2.06-2.06.94zm-11 1L8.5 8.5l.94-2.06 2.06-.94-2.06-.94L8.5 2.5l-.94 2.06-2.06.94zm10 10l.94 2.06.94-2.06 2.06-.94-2.06-.94-.94-2.06-.94 2.06-2.06.94z\"/><path d=\"M17.41 7.96l-1.37-1.37c-.4-.4-.92-.59-1.43-.59-.52 0-1.04.2-1.43.59L10.3 9.45l-7.72 7.72c-.78.78-.78 2.05 0 2.83L4 21.41c.39.39.9.59 1.41.59.51 0 1.02-.2 1.41-.59l7.78-7.78 2.81-2.81c.8-.78.8-2.07 0-2.86zM5.41 20L4 18.59l7.72-7.72 1.47 1.35L5.41 20z\"/>\n",
              "  </svg>\n",
              "      </button>\n",
              "      \n",
              "  <style>\n",
              "    .colab-df-container {\n",
              "      display:flex;\n",
              "      flex-wrap:wrap;\n",
              "      gap: 12px;\n",
              "    }\n",
              "\n",
              "    .colab-df-convert {\n",
              "      background-color: #E8F0FE;\n",
              "      border: none;\n",
              "      border-radius: 50%;\n",
              "      cursor: pointer;\n",
              "      display: none;\n",
              "      fill: #1967D2;\n",
              "      height: 32px;\n",
              "      padding: 0 0 0 0;\n",
              "      width: 32px;\n",
              "    }\n",
              "\n",
              "    .colab-df-convert:hover {\n",
              "      background-color: #E2EBFA;\n",
              "      box-shadow: 0px 1px 2px rgba(60, 64, 67, 0.3), 0px 1px 3px 1px rgba(60, 64, 67, 0.15);\n",
              "      fill: #174EA6;\n",
              "    }\n",
              "\n",
              "    [theme=dark] .colab-df-convert {\n",
              "      background-color: #3B4455;\n",
              "      fill: #D2E3FC;\n",
              "    }\n",
              "\n",
              "    [theme=dark] .colab-df-convert:hover {\n",
              "      background-color: #434B5C;\n",
              "      box-shadow: 0px 1px 3px 1px rgba(0, 0, 0, 0.15);\n",
              "      filter: drop-shadow(0px 1px 2px rgba(0, 0, 0, 0.3));\n",
              "      fill: #FFFFFF;\n",
              "    }\n",
              "  </style>\n",
              "\n",
              "      <script>\n",
              "        const buttonEl =\n",
              "          document.querySelector('#df-0de7cbf6-5196-4f8c-811c-58e7741f03b1 button.colab-df-convert');\n",
              "        buttonEl.style.display =\n",
              "          google.colab.kernel.accessAllowed ? 'block' : 'none';\n",
              "\n",
              "        async function convertToInteractive(key) {\n",
              "          const element = document.querySelector('#df-0de7cbf6-5196-4f8c-811c-58e7741f03b1');\n",
              "          const dataTable =\n",
              "            await google.colab.kernel.invokeFunction('convertToInteractive',\n",
              "                                                     [key], {});\n",
              "          if (!dataTable) return;\n",
              "\n",
              "          const docLinkHtml = 'Like what you see? Visit the ' +\n",
              "            '<a target=\"_blank\" href=https://colab.research.google.com/notebooks/data_table.ipynb>data table notebook</a>'\n",
              "            + ' to learn more about interactive tables.';\n",
              "          element.innerHTML = '';\n",
              "          dataTable['output_type'] = 'display_data';\n",
              "          await google.colab.output.renderOutput(dataTable, element);\n",
              "          const docLink = document.createElement('div');\n",
              "          docLink.innerHTML = docLinkHtml;\n",
              "          element.appendChild(docLink);\n",
              "        }\n",
              "      </script>\n",
              "    </div>\n",
              "  </div>\n",
              "  "
            ]
          },
          "metadata": {},
          "execution_count": 4
        }
      ]
    },
    {
      "cell_type": "code",
      "source": [
        "# Ultimos Registros\n",
        "Base.tail()"
      ],
      "metadata": {
        "colab": {
          "base_uri": "https://localhost:8080/",
          "height": 250
        },
        "id": "FcJ8rc_hFO7j",
        "outputId": "4ba2bb16-1920-4d3b-d111-7e57384be9a2"
      },
      "execution_count": 5,
      "outputs": [
        {
          "output_type": "execute_result",
          "data": {
            "text/plain": [
              "     Unnamed: 0          Company Valuation ($B) Date Joined        Country  \\\n",
              "931         931        YipitData             $1   12/6/2021  United States   \n",
              "932         932         Anyscale             $1   12/7/2021  United States   \n",
              "933         933  Iodine Software             $1   12/1/2021  United States   \n",
              "934         934       ReliaQuest             $1   12/1/2021  United States   \n",
              "935         935       Pet Circle             $1   12/7/2021      Australia   \n",
              "\n",
              "           City                         Industry  \\\n",
              "931    New York     Internet software & services   \n",
              "932    Berkeley          Artificial Intelligence   \n",
              "933      Austin      Data management & analytics   \n",
              "934       Tampa                    Cybersecurity   \n",
              "935  Alexandria  E-commerce & direct-to-consumer   \n",
              "\n",
              "                                      Select Investors  \n",
              "931  RRE Ventures+, Highland Capital Partners, The ...  \n",
              "932  Andreessen Horowitz, Intel Capital, Foundation...  \n",
              "933  Advent International, Bain Capital Ventures, S...  \n",
              "934              KKR, FTV Capital, Ten Eleven Ventures  \n",
              "935  Prysm Capital, Baillie Gifford & Co., TDM Grow...  "
            ],
            "text/html": [
              "\n",
              "  <div id=\"df-edbc7391-16f3-4740-b954-901d4fb66856\">\n",
              "    <div class=\"colab-df-container\">\n",
              "      <div>\n",
              "<style scoped>\n",
              "    .dataframe tbody tr th:only-of-type {\n",
              "        vertical-align: middle;\n",
              "    }\n",
              "\n",
              "    .dataframe tbody tr th {\n",
              "        vertical-align: top;\n",
              "    }\n",
              "\n",
              "    .dataframe thead th {\n",
              "        text-align: right;\n",
              "    }\n",
              "</style>\n",
              "<table border=\"1\" class=\"dataframe\">\n",
              "  <thead>\n",
              "    <tr style=\"text-align: right;\">\n",
              "      <th></th>\n",
              "      <th>Unnamed: 0</th>\n",
              "      <th>Company</th>\n",
              "      <th>Valuation ($B)</th>\n",
              "      <th>Date Joined</th>\n",
              "      <th>Country</th>\n",
              "      <th>City</th>\n",
              "      <th>Industry</th>\n",
              "      <th>Select Investors</th>\n",
              "    </tr>\n",
              "  </thead>\n",
              "  <tbody>\n",
              "    <tr>\n",
              "      <th>931</th>\n",
              "      <td>931</td>\n",
              "      <td>YipitData</td>\n",
              "      <td>$1</td>\n",
              "      <td>12/6/2021</td>\n",
              "      <td>United States</td>\n",
              "      <td>New York</td>\n",
              "      <td>Internet software &amp; services</td>\n",
              "      <td>RRE Ventures+, Highland Capital Partners, The ...</td>\n",
              "    </tr>\n",
              "    <tr>\n",
              "      <th>932</th>\n",
              "      <td>932</td>\n",
              "      <td>Anyscale</td>\n",
              "      <td>$1</td>\n",
              "      <td>12/7/2021</td>\n",
              "      <td>United States</td>\n",
              "      <td>Berkeley</td>\n",
              "      <td>Artificial Intelligence</td>\n",
              "      <td>Andreessen Horowitz, Intel Capital, Foundation...</td>\n",
              "    </tr>\n",
              "    <tr>\n",
              "      <th>933</th>\n",
              "      <td>933</td>\n",
              "      <td>Iodine Software</td>\n",
              "      <td>$1</td>\n",
              "      <td>12/1/2021</td>\n",
              "      <td>United States</td>\n",
              "      <td>Austin</td>\n",
              "      <td>Data management &amp; analytics</td>\n",
              "      <td>Advent International, Bain Capital Ventures, S...</td>\n",
              "    </tr>\n",
              "    <tr>\n",
              "      <th>934</th>\n",
              "      <td>934</td>\n",
              "      <td>ReliaQuest</td>\n",
              "      <td>$1</td>\n",
              "      <td>12/1/2021</td>\n",
              "      <td>United States</td>\n",
              "      <td>Tampa</td>\n",
              "      <td>Cybersecurity</td>\n",
              "      <td>KKR, FTV Capital, Ten Eleven Ventures</td>\n",
              "    </tr>\n",
              "    <tr>\n",
              "      <th>935</th>\n",
              "      <td>935</td>\n",
              "      <td>Pet Circle</td>\n",
              "      <td>$1</td>\n",
              "      <td>12/7/2021</td>\n",
              "      <td>Australia</td>\n",
              "      <td>Alexandria</td>\n",
              "      <td>E-commerce &amp; direct-to-consumer</td>\n",
              "      <td>Prysm Capital, Baillie Gifford &amp; Co., TDM Grow...</td>\n",
              "    </tr>\n",
              "  </tbody>\n",
              "</table>\n",
              "</div>\n",
              "      <button class=\"colab-df-convert\" onclick=\"convertToInteractive('df-edbc7391-16f3-4740-b954-901d4fb66856')\"\n",
              "              title=\"Convert this dataframe to an interactive table.\"\n",
              "              style=\"display:none;\">\n",
              "        \n",
              "  <svg xmlns=\"http://www.w3.org/2000/svg\" height=\"24px\"viewBox=\"0 0 24 24\"\n",
              "       width=\"24px\">\n",
              "    <path d=\"M0 0h24v24H0V0z\" fill=\"none\"/>\n",
              "    <path d=\"M18.56 5.44l.94 2.06.94-2.06 2.06-.94-2.06-.94-.94-2.06-.94 2.06-2.06.94zm-11 1L8.5 8.5l.94-2.06 2.06-.94-2.06-.94L8.5 2.5l-.94 2.06-2.06.94zm10 10l.94 2.06.94-2.06 2.06-.94-2.06-.94-.94-2.06-.94 2.06-2.06.94z\"/><path d=\"M17.41 7.96l-1.37-1.37c-.4-.4-.92-.59-1.43-.59-.52 0-1.04.2-1.43.59L10.3 9.45l-7.72 7.72c-.78.78-.78 2.05 0 2.83L4 21.41c.39.39.9.59 1.41.59.51 0 1.02-.2 1.41-.59l7.78-7.78 2.81-2.81c.8-.78.8-2.07 0-2.86zM5.41 20L4 18.59l7.72-7.72 1.47 1.35L5.41 20z\"/>\n",
              "  </svg>\n",
              "      </button>\n",
              "      \n",
              "  <style>\n",
              "    .colab-df-container {\n",
              "      display:flex;\n",
              "      flex-wrap:wrap;\n",
              "      gap: 12px;\n",
              "    }\n",
              "\n",
              "    .colab-df-convert {\n",
              "      background-color: #E8F0FE;\n",
              "      border: none;\n",
              "      border-radius: 50%;\n",
              "      cursor: pointer;\n",
              "      display: none;\n",
              "      fill: #1967D2;\n",
              "      height: 32px;\n",
              "      padding: 0 0 0 0;\n",
              "      width: 32px;\n",
              "    }\n",
              "\n",
              "    .colab-df-convert:hover {\n",
              "      background-color: #E2EBFA;\n",
              "      box-shadow: 0px 1px 2px rgba(60, 64, 67, 0.3), 0px 1px 3px 1px rgba(60, 64, 67, 0.15);\n",
              "      fill: #174EA6;\n",
              "    }\n",
              "\n",
              "    [theme=dark] .colab-df-convert {\n",
              "      background-color: #3B4455;\n",
              "      fill: #D2E3FC;\n",
              "    }\n",
              "\n",
              "    [theme=dark] .colab-df-convert:hover {\n",
              "      background-color: #434B5C;\n",
              "      box-shadow: 0px 1px 3px 1px rgba(0, 0, 0, 0.15);\n",
              "      filter: drop-shadow(0px 1px 2px rgba(0, 0, 0, 0.3));\n",
              "      fill: #FFFFFF;\n",
              "    }\n",
              "  </style>\n",
              "\n",
              "      <script>\n",
              "        const buttonEl =\n",
              "          document.querySelector('#df-edbc7391-16f3-4740-b954-901d4fb66856 button.colab-df-convert');\n",
              "        buttonEl.style.display =\n",
              "          google.colab.kernel.accessAllowed ? 'block' : 'none';\n",
              "\n",
              "        async function convertToInteractive(key) {\n",
              "          const element = document.querySelector('#df-edbc7391-16f3-4740-b954-901d4fb66856');\n",
              "          const dataTable =\n",
              "            await google.colab.kernel.invokeFunction('convertToInteractive',\n",
              "                                                     [key], {});\n",
              "          if (!dataTable) return;\n",
              "\n",
              "          const docLinkHtml = 'Like what you see? Visit the ' +\n",
              "            '<a target=\"_blank\" href=https://colab.research.google.com/notebooks/data_table.ipynb>data table notebook</a>'\n",
              "            + ' to learn more about interactive tables.';\n",
              "          element.innerHTML = '';\n",
              "          dataTable['output_type'] = 'display_data';\n",
              "          await google.colab.output.renderOutput(dataTable, element);\n",
              "          const docLink = document.createElement('div');\n",
              "          docLink.innerHTML = docLinkHtml;\n",
              "          element.appendChild(docLink);\n",
              "        }\n",
              "      </script>\n",
              "    </div>\n",
              "  </div>\n",
              "  "
            ]
          },
          "metadata": {},
          "execution_count": 5
        }
      ]
    },
    {
      "cell_type": "code",
      "source": [
        "# Colunas\n",
        "Base.columns"
      ],
      "metadata": {
        "colab": {
          "base_uri": "https://localhost:8080/"
        },
        "id": "8p-xJgiKvXod",
        "outputId": "ecb4706f-5458-4fba-a239-84f4d478e0d0"
      },
      "execution_count": 6,
      "outputs": [
        {
          "output_type": "execute_result",
          "data": {
            "text/plain": [
              "Index(['Unnamed: 0', 'Company', 'Valuation ($B)', 'Date Joined', 'Country',\n",
              "       'City', 'Industry', 'Select Investors'],\n",
              "      dtype='object')"
            ]
          },
          "metadata": {},
          "execution_count": 6
        }
      ]
    },
    {
      "cell_type": "code",
      "source": [
        "# Renomear\n",
        "Base.rename( columns={\n",
        "    'Unnamed: 0' : 'Id',\n",
        "    'Company' : 'Empresa',\n",
        "    'Valuation ($B)' : 'Valor ($)',\n",
        "    'Date Joined' : 'Data de Adesão',\n",
        "    'Country' : 'Pais',\n",
        "    'City' : 'Cidade',\n",
        "    'Industry': 'Setor',\n",
        "    'Select Investors': 'Investidores',\n",
        "}, inplace=True )"
      ],
      "metadata": {
        "id": "acDvOIOkvep5"
      },
      "execution_count": 7,
      "outputs": []
    },
    {
      "cell_type": "code",
      "source": [
        "# Verificando os tipos das colunas\n",
        "Base.info()"
      ],
      "metadata": {
        "colab": {
          "base_uri": "https://localhost:8080/"
        },
        "id": "r3-BPs_0vjTn",
        "outputId": "a85dab02-40ab-4099-c384-bc62cab2aae9"
      },
      "execution_count": 8,
      "outputs": [
        {
          "output_type": "stream",
          "name": "stdout",
          "text": [
            "<class 'pandas.core.frame.DataFrame'>\n",
            "RangeIndex: 936 entries, 0 to 935\n",
            "Data columns (total 8 columns):\n",
            " #   Column          Non-Null Count  Dtype \n",
            "---  ------          --------------  ----- \n",
            " 0   Id              936 non-null    int64 \n",
            " 1   Empresa         936 non-null    object\n",
            " 2   Valor ($)       936 non-null    object\n",
            " 3   Data de Adesão  936 non-null    object\n",
            " 4   Pais            936 non-null    object\n",
            " 5   Cidade          921 non-null    object\n",
            " 6   Setor           936 non-null    object\n",
            " 7   Investidores    935 non-null    object\n",
            "dtypes: int64(1), object(7)\n",
            "memory usage: 58.6+ KB\n"
          ]
        }
      ]
    },
    {
      "cell_type": "markdown",
      "source": [
        "Verificamos que as colunas 'Valor ($)' e 'Data de Adesão' estão como tipo de texto.\n",
        "\n",
        "Então pra qualquer análise não funcionará, então temos que mudar os tipos dessas colunas."
      ],
      "metadata": {
        "id": "DP77Z4hzFn1z"
      }
    },
    {
      "cell_type": "code",
      "source": [
        "# Alterando o tipo da coluna Valor para Float\n",
        "Base['Valor ($)'] = pd.to_numeric(Base['Valor ($)'].apply(lambda x : x.replace('$','')))\n",
        "\n",
        "# Alterando o tipo da coluna Data de Adesão para Date\n",
        "Base['Data de Adesão'] = pd.to_datetime(Base['Data de Adesão'])"
      ],
      "metadata": {
        "id": "lYH6cFLBFPDz"
      },
      "execution_count": 9,
      "outputs": []
    },
    {
      "cell_type": "code",
      "source": [
        "Base.info()"
      ],
      "metadata": {
        "colab": {
          "base_uri": "https://localhost:8080/"
        },
        "id": "c2Sp8-5JFpUH",
        "outputId": "504d38ae-5a93-4179-dbdb-23a41ab23fa3"
      },
      "execution_count": 10,
      "outputs": [
        {
          "output_type": "stream",
          "name": "stdout",
          "text": [
            "<class 'pandas.core.frame.DataFrame'>\n",
            "RangeIndex: 936 entries, 0 to 935\n",
            "Data columns (total 8 columns):\n",
            " #   Column          Non-Null Count  Dtype         \n",
            "---  ------          --------------  -----         \n",
            " 0   Id              936 non-null    int64         \n",
            " 1   Empresa         936 non-null    object        \n",
            " 2   Valor ($)       936 non-null    float64       \n",
            " 3   Data de Adesão  936 non-null    datetime64[ns]\n",
            " 4   Pais            936 non-null    object        \n",
            " 5   Cidade          921 non-null    object        \n",
            " 6   Setor           936 non-null    object        \n",
            " 7   Investidores    935 non-null    object        \n",
            "dtypes: datetime64[ns](1), float64(1), int64(1), object(5)\n",
            "memory usage: 58.6+ KB\n"
          ]
        }
      ]
    },
    {
      "cell_type": "markdown",
      "source": [
        "Agora consetando os tipos das colunas podemos fazer uma anlise melhor com as datas e valores."
      ],
      "metadata": {
        "id": "oqZ4SBSgNGOV"
      }
    },
    {
      "cell_type": "code",
      "source": [
        "#Colocando o Mês e o Ano na Base\n",
        "Base['Mes'] = pd.DatetimeIndex(Base['Data de Adesão']).month\n",
        "Base['Ano'] = pd.DatetimeIndex(Base['Data de Adesão']).year\n",
        "Base"
      ],
      "metadata": {
        "id": "SgX0RwylGb4H",
        "colab": {
          "base_uri": "https://localhost:8080/",
          "height": 641
        },
        "outputId": "ade46f79-b86a-4501-e38f-d1a13d8ce434"
      },
      "execution_count": 11,
      "outputs": [
        {
          "output_type": "execute_result",
          "data": {
            "text/plain": [
              "      Id          Empresa  Valor ($) Data de Adesão           Pais  \\\n",
              "0      0        Bytedance      140.0     2017-04-07          China   \n",
              "1      1           SpaceX      100.3     2012-12-01  United States   \n",
              "2      2           Stripe       95.0     2014-01-23  United States   \n",
              "3      3           Klarna       45.6     2011-12-12         Sweden   \n",
              "4      4            Canva       40.0     2018-01-08      Australia   \n",
              "..   ...              ...        ...            ...            ...   \n",
              "931  931        YipitData        1.0     2021-12-06  United States   \n",
              "932  932         Anyscale        1.0     2021-12-07  United States   \n",
              "933  933  Iodine Software        1.0     2021-12-01  United States   \n",
              "934  934       ReliaQuest        1.0     2021-12-01  United States   \n",
              "935  935       Pet Circle        1.0     2021-12-07      Australia   \n",
              "\n",
              "            Cidade                            Setor  \\\n",
              "0          Beijing          Artificial intelligence   \n",
              "1        Hawthorne                            Other   \n",
              "2    San Francisco                          Fintech   \n",
              "3        Stockholm                          Fintech   \n",
              "4      Surry Hills     Internet software & services   \n",
              "..             ...                              ...   \n",
              "931       New York     Internet software & services   \n",
              "932       Berkeley          Artificial Intelligence   \n",
              "933         Austin      Data management & analytics   \n",
              "934          Tampa                    Cybersecurity   \n",
              "935     Alexandria  E-commerce & direct-to-consumer   \n",
              "\n",
              "                                          Investidores  Mes   Ano  \n",
              "0    Sequoia Capital China, SIG Asia Investments, S...    4  2017  \n",
              "1    Founders Fund, Draper Fisher Jurvetson, Rothen...   12  2012  \n",
              "2          Khosla Ventures, LowercaseCapital, capitalG    1  2014  \n",
              "3    Institutional Venture Partners, Sequoia Capita...   12  2011  \n",
              "4    Sequoia Capital China, Blackbird Ventures, Mat...    1  2018  \n",
              "..                                                 ...  ...   ...  \n",
              "931  RRE Ventures+, Highland Capital Partners, The ...   12  2021  \n",
              "932  Andreessen Horowitz, Intel Capital, Foundation...   12  2021  \n",
              "933  Advent International, Bain Capital Ventures, S...   12  2021  \n",
              "934              KKR, FTV Capital, Ten Eleven Ventures   12  2021  \n",
              "935  Prysm Capital, Baillie Gifford & Co., TDM Grow...   12  2021  \n",
              "\n",
              "[936 rows x 10 columns]"
            ],
            "text/html": [
              "\n",
              "  <div id=\"df-f43af329-312b-4894-bbe1-7cd4b813a292\">\n",
              "    <div class=\"colab-df-container\">\n",
              "      <div>\n",
              "<style scoped>\n",
              "    .dataframe tbody tr th:only-of-type {\n",
              "        vertical-align: middle;\n",
              "    }\n",
              "\n",
              "    .dataframe tbody tr th {\n",
              "        vertical-align: top;\n",
              "    }\n",
              "\n",
              "    .dataframe thead th {\n",
              "        text-align: right;\n",
              "    }\n",
              "</style>\n",
              "<table border=\"1\" class=\"dataframe\">\n",
              "  <thead>\n",
              "    <tr style=\"text-align: right;\">\n",
              "      <th></th>\n",
              "      <th>Id</th>\n",
              "      <th>Empresa</th>\n",
              "      <th>Valor ($)</th>\n",
              "      <th>Data de Adesão</th>\n",
              "      <th>Pais</th>\n",
              "      <th>Cidade</th>\n",
              "      <th>Setor</th>\n",
              "      <th>Investidores</th>\n",
              "      <th>Mes</th>\n",
              "      <th>Ano</th>\n",
              "    </tr>\n",
              "  </thead>\n",
              "  <tbody>\n",
              "    <tr>\n",
              "      <th>0</th>\n",
              "      <td>0</td>\n",
              "      <td>Bytedance</td>\n",
              "      <td>140.0</td>\n",
              "      <td>2017-04-07</td>\n",
              "      <td>China</td>\n",
              "      <td>Beijing</td>\n",
              "      <td>Artificial intelligence</td>\n",
              "      <td>Sequoia Capital China, SIG Asia Investments, S...</td>\n",
              "      <td>4</td>\n",
              "      <td>2017</td>\n",
              "    </tr>\n",
              "    <tr>\n",
              "      <th>1</th>\n",
              "      <td>1</td>\n",
              "      <td>SpaceX</td>\n",
              "      <td>100.3</td>\n",
              "      <td>2012-12-01</td>\n",
              "      <td>United States</td>\n",
              "      <td>Hawthorne</td>\n",
              "      <td>Other</td>\n",
              "      <td>Founders Fund, Draper Fisher Jurvetson, Rothen...</td>\n",
              "      <td>12</td>\n",
              "      <td>2012</td>\n",
              "    </tr>\n",
              "    <tr>\n",
              "      <th>2</th>\n",
              "      <td>2</td>\n",
              "      <td>Stripe</td>\n",
              "      <td>95.0</td>\n",
              "      <td>2014-01-23</td>\n",
              "      <td>United States</td>\n",
              "      <td>San Francisco</td>\n",
              "      <td>Fintech</td>\n",
              "      <td>Khosla Ventures, LowercaseCapital, capitalG</td>\n",
              "      <td>1</td>\n",
              "      <td>2014</td>\n",
              "    </tr>\n",
              "    <tr>\n",
              "      <th>3</th>\n",
              "      <td>3</td>\n",
              "      <td>Klarna</td>\n",
              "      <td>45.6</td>\n",
              "      <td>2011-12-12</td>\n",
              "      <td>Sweden</td>\n",
              "      <td>Stockholm</td>\n",
              "      <td>Fintech</td>\n",
              "      <td>Institutional Venture Partners, Sequoia Capita...</td>\n",
              "      <td>12</td>\n",
              "      <td>2011</td>\n",
              "    </tr>\n",
              "    <tr>\n",
              "      <th>4</th>\n",
              "      <td>4</td>\n",
              "      <td>Canva</td>\n",
              "      <td>40.0</td>\n",
              "      <td>2018-01-08</td>\n",
              "      <td>Australia</td>\n",
              "      <td>Surry Hills</td>\n",
              "      <td>Internet software &amp; services</td>\n",
              "      <td>Sequoia Capital China, Blackbird Ventures, Mat...</td>\n",
              "      <td>1</td>\n",
              "      <td>2018</td>\n",
              "    </tr>\n",
              "    <tr>\n",
              "      <th>...</th>\n",
              "      <td>...</td>\n",
              "      <td>...</td>\n",
              "      <td>...</td>\n",
              "      <td>...</td>\n",
              "      <td>...</td>\n",
              "      <td>...</td>\n",
              "      <td>...</td>\n",
              "      <td>...</td>\n",
              "      <td>...</td>\n",
              "      <td>...</td>\n",
              "    </tr>\n",
              "    <tr>\n",
              "      <th>931</th>\n",
              "      <td>931</td>\n",
              "      <td>YipitData</td>\n",
              "      <td>1.0</td>\n",
              "      <td>2021-12-06</td>\n",
              "      <td>United States</td>\n",
              "      <td>New York</td>\n",
              "      <td>Internet software &amp; services</td>\n",
              "      <td>RRE Ventures+, Highland Capital Partners, The ...</td>\n",
              "      <td>12</td>\n",
              "      <td>2021</td>\n",
              "    </tr>\n",
              "    <tr>\n",
              "      <th>932</th>\n",
              "      <td>932</td>\n",
              "      <td>Anyscale</td>\n",
              "      <td>1.0</td>\n",
              "      <td>2021-12-07</td>\n",
              "      <td>United States</td>\n",
              "      <td>Berkeley</td>\n",
              "      <td>Artificial Intelligence</td>\n",
              "      <td>Andreessen Horowitz, Intel Capital, Foundation...</td>\n",
              "      <td>12</td>\n",
              "      <td>2021</td>\n",
              "    </tr>\n",
              "    <tr>\n",
              "      <th>933</th>\n",
              "      <td>933</td>\n",
              "      <td>Iodine Software</td>\n",
              "      <td>1.0</td>\n",
              "      <td>2021-12-01</td>\n",
              "      <td>United States</td>\n",
              "      <td>Austin</td>\n",
              "      <td>Data management &amp; analytics</td>\n",
              "      <td>Advent International, Bain Capital Ventures, S...</td>\n",
              "      <td>12</td>\n",
              "      <td>2021</td>\n",
              "    </tr>\n",
              "    <tr>\n",
              "      <th>934</th>\n",
              "      <td>934</td>\n",
              "      <td>ReliaQuest</td>\n",
              "      <td>1.0</td>\n",
              "      <td>2021-12-01</td>\n",
              "      <td>United States</td>\n",
              "      <td>Tampa</td>\n",
              "      <td>Cybersecurity</td>\n",
              "      <td>KKR, FTV Capital, Ten Eleven Ventures</td>\n",
              "      <td>12</td>\n",
              "      <td>2021</td>\n",
              "    </tr>\n",
              "    <tr>\n",
              "      <th>935</th>\n",
              "      <td>935</td>\n",
              "      <td>Pet Circle</td>\n",
              "      <td>1.0</td>\n",
              "      <td>2021-12-07</td>\n",
              "      <td>Australia</td>\n",
              "      <td>Alexandria</td>\n",
              "      <td>E-commerce &amp; direct-to-consumer</td>\n",
              "      <td>Prysm Capital, Baillie Gifford &amp; Co., TDM Grow...</td>\n",
              "      <td>12</td>\n",
              "      <td>2021</td>\n",
              "    </tr>\n",
              "  </tbody>\n",
              "</table>\n",
              "<p>936 rows × 10 columns</p>\n",
              "</div>\n",
              "      <button class=\"colab-df-convert\" onclick=\"convertToInteractive('df-f43af329-312b-4894-bbe1-7cd4b813a292')\"\n",
              "              title=\"Convert this dataframe to an interactive table.\"\n",
              "              style=\"display:none;\">\n",
              "        \n",
              "  <svg xmlns=\"http://www.w3.org/2000/svg\" height=\"24px\"viewBox=\"0 0 24 24\"\n",
              "       width=\"24px\">\n",
              "    <path d=\"M0 0h24v24H0V0z\" fill=\"none\"/>\n",
              "    <path d=\"M18.56 5.44l.94 2.06.94-2.06 2.06-.94-2.06-.94-.94-2.06-.94 2.06-2.06.94zm-11 1L8.5 8.5l.94-2.06 2.06-.94-2.06-.94L8.5 2.5l-.94 2.06-2.06.94zm10 10l.94 2.06.94-2.06 2.06-.94-2.06-.94-.94-2.06-.94 2.06-2.06.94z\"/><path d=\"M17.41 7.96l-1.37-1.37c-.4-.4-.92-.59-1.43-.59-.52 0-1.04.2-1.43.59L10.3 9.45l-7.72 7.72c-.78.78-.78 2.05 0 2.83L4 21.41c.39.39.9.59 1.41.59.51 0 1.02-.2 1.41-.59l7.78-7.78 2.81-2.81c.8-.78.8-2.07 0-2.86zM5.41 20L4 18.59l7.72-7.72 1.47 1.35L5.41 20z\"/>\n",
              "  </svg>\n",
              "      </button>\n",
              "      \n",
              "  <style>\n",
              "    .colab-df-container {\n",
              "      display:flex;\n",
              "      flex-wrap:wrap;\n",
              "      gap: 12px;\n",
              "    }\n",
              "\n",
              "    .colab-df-convert {\n",
              "      background-color: #E8F0FE;\n",
              "      border: none;\n",
              "      border-radius: 50%;\n",
              "      cursor: pointer;\n",
              "      display: none;\n",
              "      fill: #1967D2;\n",
              "      height: 32px;\n",
              "      padding: 0 0 0 0;\n",
              "      width: 32px;\n",
              "    }\n",
              "\n",
              "    .colab-df-convert:hover {\n",
              "      background-color: #E2EBFA;\n",
              "      box-shadow: 0px 1px 2px rgba(60, 64, 67, 0.3), 0px 1px 3px 1px rgba(60, 64, 67, 0.15);\n",
              "      fill: #174EA6;\n",
              "    }\n",
              "\n",
              "    [theme=dark] .colab-df-convert {\n",
              "      background-color: #3B4455;\n",
              "      fill: #D2E3FC;\n",
              "    }\n",
              "\n",
              "    [theme=dark] .colab-df-convert:hover {\n",
              "      background-color: #434B5C;\n",
              "      box-shadow: 0px 1px 3px 1px rgba(0, 0, 0, 0.15);\n",
              "      filter: drop-shadow(0px 1px 2px rgba(0, 0, 0, 0.3));\n",
              "      fill: #FFFFFF;\n",
              "    }\n",
              "  </style>\n",
              "\n",
              "      <script>\n",
              "        const buttonEl =\n",
              "          document.querySelector('#df-f43af329-312b-4894-bbe1-7cd4b813a292 button.colab-df-convert');\n",
              "        buttonEl.style.display =\n",
              "          google.colab.kernel.accessAllowed ? 'block' : 'none';\n",
              "\n",
              "        async function convertToInteractive(key) {\n",
              "          const element = document.querySelector('#df-f43af329-312b-4894-bbe1-7cd4b813a292');\n",
              "          const dataTable =\n",
              "            await google.colab.kernel.invokeFunction('convertToInteractive',\n",
              "                                                     [key], {});\n",
              "          if (!dataTable) return;\n",
              "\n",
              "          const docLinkHtml = 'Like what you see? Visit the ' +\n",
              "            '<a target=\"_blank\" href=https://colab.research.google.com/notebooks/data_table.ipynb>data table notebook</a>'\n",
              "            + ' to learn more about interactive tables.';\n",
              "          element.innerHTML = '';\n",
              "          dataTable['output_type'] = 'display_data';\n",
              "          await google.colab.output.renderOutput(dataTable, element);\n",
              "          const docLink = document.createElement('div');\n",
              "          docLink.innerHTML = docLinkHtml;\n",
              "          element.appendChild(docLink);\n",
              "        }\n",
              "      </script>\n",
              "    </div>\n",
              "  </div>\n",
              "  "
            ]
          },
          "metadata": {},
          "execution_count": 11
        }
      ]
    },
    {
      "cell_type": "markdown",
      "source": [
        "## Valores Ausentes"
      ],
      "metadata": {
        "id": "BGOitAynNU5Q"
      }
    },
    {
      "cell_type": "code",
      "source": [
        "#Verificando valores ausentes\n",
        "Ausentes = Base.isnull().sum().sort_values(ascending=False)\n",
        "Ausentes"
      ],
      "metadata": {
        "colab": {
          "base_uri": "https://localhost:8080/"
        },
        "id": "ORwCCQVDvyxE",
        "outputId": "6a0448b0-0541-498c-b6c4-a8ca8ad713e6"
      },
      "execution_count": 12,
      "outputs": [
        {
          "output_type": "execute_result",
          "data": {
            "text/plain": [
              "Cidade            15\n",
              "Investidores       1\n",
              "Id                 0\n",
              "Empresa            0\n",
              "Valor ($)          0\n",
              "Data de Adesão     0\n",
              "Pais               0\n",
              "Setor              0\n",
              "Mes                0\n",
              "Ano                0\n",
              "dtype: int64"
            ]
          },
          "metadata": {},
          "execution_count": 12
        }
      ]
    },
    {
      "cell_type": "code",
      "source": [
        "#Valores ausentes em %\n",
        "Ausentes = (Base.isnull().sum()/Base.shape[0]*100)\n",
        "Ausentes.sort_values(ascending=False)"
      ],
      "metadata": {
        "colab": {
          "base_uri": "https://localhost:8080/"
        },
        "id": "SB9Yick9wZk-",
        "outputId": "2d680b9b-8f55-49db-ab7b-dc70d53c3fc8"
      },
      "execution_count": 13,
      "outputs": [
        {
          "output_type": "execute_result",
          "data": {
            "text/plain": [
              "Cidade            1.602564\n",
              "Investidores      0.106838\n",
              "Id                0.000000\n",
              "Empresa           0.000000\n",
              "Valor ($)         0.000000\n",
              "Data de Adesão    0.000000\n",
              "Pais              0.000000\n",
              "Setor             0.000000\n",
              "Mes               0.000000\n",
              "Ano               0.000000\n",
              "dtype: float64"
            ]
          },
          "metadata": {},
          "execution_count": 13
        }
      ]
    },
    {
      "cell_type": "code",
      "source": [
        "# Valores ausentes graficamente\n",
        "plt.figure( figsize=(15,6) )\n",
        "plt.title('Analisando Campos Nulos')\n",
        "sns.heatmap( Base.isnull(), cbar=False );"
      ],
      "metadata": {
        "colab": {
          "base_uri": "https://localhost:8080/",
          "height": 390
        },
        "id": "Obp4rjpZvruP",
        "outputId": "16b8856d-13ff-43ad-aaf5-7f09c735abd2"
      },
      "execution_count": 14,
      "outputs": [
        {
          "output_type": "display_data",
          "data": {
            "text/plain": [
              "<Figure size 1080x432 with 1 Axes>"
            ],
            "image/png": "[encoded data removed]"
          },
          "metadata": {
            "needs_background": "light"
          }
        }
      ]
    },
    {
      "cell_type": "markdown",
      "source": [
        "# Analisando os Setores"
      ],
      "metadata": {
        "id": "lbMLEHHdJP9V"
      }
    },
    {
      "cell_type": "code",
      "source": [
        "#Verificando dados únicos\n",
        "Base['Setor'].unique()"
      ],
      "metadata": {
        "colab": {
          "base_uri": "https://localhost:8080/"
        },
        "id": "u1zNCyiKCOTt",
        "outputId": "339ea791-9887-47d6-b7a5-3625dc7267fe"
      },
      "execution_count": 15,
      "outputs": [
        {
          "output_type": "execute_result",
          "data": {
            "text/plain": [
              "array(['Artificial intelligence', 'Other', 'Fintech',\n",
              "       'Internet software & services',\n",
              "       'Supply chain, logistics, & delivery',\n",
              "       'Data management & analytics', 'Edtech',\n",
              "       'E-commerce & direct-to-consumer', 'Hardware', 'Health',\n",
              "       'Consumer & retail', 'Auto & transportation', 'Finttech',\n",
              "       'Cybersecurity', 'Mobile & telecommunications', 'Travel',\n",
              "       'Artificial Intelligence'], dtype=object)"
            ]
          },
          "metadata": {},
          "execution_count": 15
        }
      ]
    },
    {
      "cell_type": "code",
      "source": [
        "#Verificando quantidade de Setor\n",
        "Base['Setor'].value_counts()"
      ],
      "metadata": {
        "colab": {
          "base_uri": "https://localhost:8080/"
        },
        "id": "tENlNjszCm8c",
        "outputId": "9a995720-0569-4385-84f7-566d685c77e4"
      },
      "execution_count": 16,
      "outputs": [
        {
          "output_type": "execute_result",
          "data": {
            "text/plain": [
              "Fintech                                190\n",
              "Internet software & services           167\n",
              "E-commerce & direct-to-consumer        102\n",
              "Artificial intelligence                 69\n",
              "Health                                  63\n",
              "Supply chain, logistics, & delivery     51\n",
              "Other                                   51\n",
              "Cybersecurity                           41\n",
              "Mobile & telecommunications             37\n",
              "Data management & analytics             36\n",
              "Hardware                                32\n",
              "Auto & transportation                   29\n",
              "Edtech                                  27\n",
              "Consumer & retail                       23\n",
              "Travel                                  13\n",
              "Artificial Intelligence                  4\n",
              "Finttech                                 1\n",
              "Name: Setor, dtype: int64"
            ]
          },
          "metadata": {},
          "execution_count": 16
        }
      ]
    },
    {
      "cell_type": "markdown",
      "source": [
        "Podemos ver que temos alguns setores que estão escritos de maneira errada como:\n",
        "\n",
        "*   'Artificial Intelligence'\n",
        "*   'Finttech'\n",
        "\n",
        "Vamos aplicar a função lambda para tratar a base.\n"
      ],
      "metadata": {
        "id": "XDYOIcnRCiZQ"
      }
    },
    {
      "cell_type": "code",
      "source": [
        "# Acertando as nomenclaturas\n",
        "\n",
        "Base['Setor'] = Base['Setor'].apply(lambda x : x.replace('Artificial Intelligence','Artificial intelligence'))\n",
        "Base['Setor'] = Base['Setor'].apply(lambda x : x.replace('Finttech','Fintech'))\n"
      ],
      "metadata": {
        "id": "y9nMAhKaEZeh"
      },
      "execution_count": 17,
      "outputs": []
    },
    {
      "cell_type": "code",
      "source": [
        "#Verificando novamente a quantidade de Setor\n",
        "Base['Setor'].value_counts()"
      ],
      "metadata": {
        "colab": {
          "base_uri": "https://localhost:8080/"
        },
        "id": "awmBwJp0IFCJ",
        "outputId": "d12643b0-4090-4fcb-d4a1-17767f83b9f5"
      },
      "execution_count": 18,
      "outputs": [
        {
          "output_type": "execute_result",
          "data": {
            "text/plain": [
              "Fintech                                191\n",
              "Internet software & services           167\n",
              "E-commerce & direct-to-consumer        102\n",
              "Artificial intelligence                 73\n",
              "Health                                  63\n",
              "Other                                   51\n",
              "Supply chain, logistics, & delivery     51\n",
              "Cybersecurity                           41\n",
              "Mobile & telecommunications             37\n",
              "Data management & analytics             36\n",
              "Hardware                                32\n",
              "Auto & transportation                   29\n",
              "Edtech                                  27\n",
              "Consumer & retail                       23\n",
              "Travel                                  13\n",
              "Name: Setor, dtype: int64"
            ]
          },
          "metadata": {},
          "execution_count": 18
        }
      ]
    },
    {
      "cell_type": "code",
      "source": [
        "# Valores Unicos - Rank %\n",
        "Base['Setor'].value_counts( normalize=True )*100"
      ],
      "metadata": {
        "colab": {
          "base_uri": "https://localhost:8080/"
        },
        "id": "1an3zB9c34N2",
        "outputId": "e5af4e8c-8be8-408f-da00-799e83cee7ec"
      },
      "execution_count": 19,
      "outputs": [
        {
          "output_type": "execute_result",
          "data": {
            "text/plain": [
              "Fintech                                20.405983\n",
              "Internet software & services           17.841880\n",
              "E-commerce & direct-to-consumer        10.897436\n",
              "Artificial intelligence                 7.799145\n",
              "Health                                  6.730769\n",
              "Other                                   5.448718\n",
              "Supply chain, logistics, & delivery     5.448718\n",
              "Cybersecurity                           4.380342\n",
              "Mobile & telecommunications             3.952991\n",
              "Data management & analytics             3.846154\n",
              "Hardware                                3.418803\n",
              "Auto & transportation                   3.098291\n",
              "Edtech                                  2.884615\n",
              "Consumer & retail                       2.457265\n",
              "Travel                                  1.388889\n",
              "Name: Setor, dtype: float64"
            ]
          },
          "metadata": {},
          "execution_count": 19
        }
      ]
    },
    {
      "cell_type": "code",
      "source": [
        "# Plotando a contagem dos setores\n",
        "plt.figure( figsize=(15,6) )\n",
        "plt.title('Contagem dos Setores')\n",
        "plt.bar( Base['Setor'].value_counts().index, \n",
        "        Base['Setor'].value_counts()  )\n",
        "plt.xticks( rotation=45, ha='right' );"
      ],
      "metadata": {
        "colab": {
          "base_uri": "https://localhost:8080/",
          "height": 508
        },
        "id": "cCq4zNVX399P",
        "outputId": "7909ae07-a563-4411-a0b5-bedc58a5cecc"
      },
      "execution_count": 20,
      "outputs": [
        {
          "output_type": "display_data",
          "data": {
            "text/plain": [
              "<Figure size 1080x432 with 1 Axes>"
            ],
            "image/png": "[encoded data removed]"
          },
          "metadata": {
            "needs_background": "light"
          }
        }
      ]
    },
    {
      "cell_type": "code",
      "source": [
        "# Plotando o valor por setor\n",
        "plt.figure( figsize=(15,6) )\n",
        "plt.title('Analise de Valores por Setor')\n",
        "plt.bar(Base['Setor'],\n",
        "      Base['Valor ($)'], \n",
        "      color = 'green' )\n",
        "plt.xticks( rotation=45, ha='right' );"
      ],
      "metadata": {
        "colab": {
          "base_uri": "https://localhost:8080/",
          "height": 508
        },
        "id": "Ya7APgdQMZqU",
        "outputId": "18c87f50-6e24-4066-e851-ef3f13667dba"
      },
      "execution_count": 21,
      "outputs": [
        {
          "output_type": "display_data",
          "data": {
            "text/plain": [
              "<Figure size 1080x432 with 1 Axes>"
            ],
            "image/png": "[encoded data removed]"
          },
          "metadata": {
            "needs_background": "light"
          }
        }
      ]
    },
    {
      "cell_type": "markdown",
      "source": [
        "Analisando os dados é interessante, pois o setor 'Fintech' é de maior quantidade de empresas, mas não o de valor.\n",
        "\n",
        "Sendo o terceiro em questão de valor.\n",
        "\n",
        "Olhando para o setor de Inteligência Artificial são poucas empresas constuídas mas são as mais valiosas."
      ],
      "metadata": {
        "id": "OrJM3gGgOqOa"
      }
    },
    {
      "cell_type": "markdown",
      "source": [
        "# Analisando os País"
      ],
      "metadata": {
        "id": "0JnrfjrPONQu"
      }
    },
    {
      "cell_type": "markdown",
      "source": [
        "Agora vamos analisar os paises que geram essas empresas."
      ],
      "metadata": {
        "id": "nTcN3rqIOVew"
      }
    },
    {
      "cell_type": "code",
      "source": [
        "Analise = round( Base['Pais'].value_counts( normalize=True ) * 100, 1 )\n",
        "# Plot top 10 \n",
        "plt.figure( figsize=(8,6) )\n",
        "plt.title('Análise dos Paises gerador de Unicornios - Top 10')\n",
        "plt.bar(\n",
        "    Analise.index[0:10],\n",
        "    Analise.head(10)\n",
        ")\n",
        "plt.xticks( rotation=45, ha='right' );"
      ],
      "metadata": {
        "colab": {
          "base_uri": "https://localhost:8080/",
          "height": 444
        },
        "id": "LrQk3SczPSJt",
        "outputId": "ded619e2-0c81-4c5d-8af1-3d099e105011"
      },
      "execution_count": 32,
      "outputs": [
        {
          "output_type": "display_data",
          "data": {
            "text/plain": [
              "<Figure size 576x432 with 1 Axes>"
            ],
            "image/png": "[encoded data removed]"
          },
          "metadata": {
            "needs_background": "light"
          }
        }
      ]
    },
    {
      "cell_type": "markdown",
      "source": [
        "Verificamos que o 'United States' é o pais com maior quantidade de unicórnios "
      ],
      "metadata": {
        "id": "KlZ_2938SzpB"
      }
    },
    {
      "cell_type": "markdown",
      "source": [
        "Agora vamos que olhar em questão de valor."
      ],
      "metadata": {
        "id": "5n5tLFPmUI4r"
      }
    },
    {
      "cell_type": "code",
      "source": [
        "#grafico Top 10 Paises valores\n",
        "Valor = Base['Valor ($)'].groupby(by = Base['Pais']).sum().sort_values(ascending=False)[:10]\n",
        "Valor = pd.DataFrame(Valor)\n",
        "Valor = Valor.reset_index()\n",
        "plt.figure( figsize=(8,6) )\n",
        "plt.title('Valor dos Unicórnios por Pais - Top 10')\n",
        "plt.bar(\n",
        "    Valor['Pais'],\n",
        "    Valor['Valor ($)'],\n",
        "    color = 'black'\n",
        ")\n",
        "plt.ylabel('Valor')\n",
        "plt.xticks( rotation=45, ha='right' );"
      ],
      "metadata": {
        "id": "E5ReZijIPSG6",
        "colab": {
          "base_uri": "https://localhost:8080/",
          "height": 444
        },
        "outputId": "c6d17030-5cdb-4133-87ab-4e8e16b7cb7a"
      },
      "execution_count": 34,
      "outputs": [
        {
          "output_type": "display_data",
          "data": {
            "text/plain": [
              "<Figure size 576x432 with 1 Axes>"
            ],
            "image/png": "[encoded data removed]"
          },
          "metadata": {
            "needs_background": "light"
          }
        }
      ]
    },
    {
      "cell_type": "markdown",
      "source": [
        "Não temos muita diferença como podemos olhar nos dois gráficos dos 5 primeiros paises.\n",
        "\n",
        "Mas se olharmos o Brasil, chama atenção pois está entre os Top 10, em questão de quantidade e valor."
      ],
      "metadata": {
        "id": "N67kK2VkBYib"
      }
    },
    {
      "cell_type": "markdown",
      "source": [
        "# Análise Cidade"
      ],
      "metadata": {
        "id": "phjvnkyiK7M5"
      }
    },
    {
      "cell_type": "code",
      "source": [
        "# Tabela analitica Cidades\n",
        "Base['Cidade'].value_counts(ascending = False)[:10]"
      ],
      "metadata": {
        "colab": {
          "base_uri": "https://localhost:8080/"
        },
        "id": "fkhMS1nNLBC7",
        "outputId": "e901ab48-233b-4791-ab13-b34f8118ad0d"
      },
      "execution_count": 24,
      "outputs": [
        {
          "output_type": "execute_result",
          "data": {
            "text/plain": [
              "San Francisco    134\n",
              "New York          81\n",
              "Beijing           62\n",
              "Shanghai          45\n",
              "London            28\n",
              "Bengaluru         25\n",
              "Shenzhen          18\n",
              "Berlin            16\n",
              "Paris             15\n",
              "Chicago           14\n",
              "Name: Cidade, dtype: int64"
            ]
          },
          "metadata": {},
          "execution_count": 24
        }
      ]
    },
    {
      "cell_type": "code",
      "source": [
        "# Vamos ver dentro do Estados Unidos\n",
        "Base_USA = Base.loc[Base['Pais']==\"United States\"]\n",
        "Base_USA['Cidade'].value_counts(ascending = False)[:10]\n"
      ],
      "metadata": {
        "colab": {
          "base_uri": "https://localhost:8080/"
        },
        "id": "qmlrqoqJMB6r",
        "outputId": "3ed0337b-efe7-40c3-c2a2-cb731e83e6b4"
      },
      "execution_count": 30,
      "outputs": [
        {
          "output_type": "execute_result",
          "data": {
            "text/plain": [
              "San Francisco    134\n",
              "New York          80\n",
              "Chicago           14\n",
              "Boston            14\n",
              "Mountain View     13\n",
              "Palo Alto         11\n",
              "Redwood City      10\n",
              "Sunnyvale          8\n",
              "Los Angeles        8\n",
              "San Mateo          8\n",
              "Name: Cidade, dtype: int64"
            ]
          },
          "metadata": {},
          "execution_count": 30
        }
      ]
    },
    {
      "cell_type": "markdown",
      "source": [
        "# Análise Brasil\n",
        "\n",
        "Vamos analisar o país Brasil, vamos filtrar ele nos dados para saber algumas infomações de quantos unicornios foram gerados, quantidade, setor e qual ano foi mais expressivo.\n"
      ],
      "metadata": {
        "id": "daGfePIF2-1V"
      }
    },
    {
      "cell_type": "code",
      "source": [
        "#vamos filtrar o brasil na base\n",
        "Base_Brasil = Base.loc[Base['Pais'] == 'Brazil'].reset_index()\n",
        "Base_Brasil = Base_Brasil.drop(columns= ['Id','index'])\n",
        "Base_Brasil"
      ],
      "metadata": {
        "colab": {
          "base_uri": "https://localhost:8080/",
          "height": 520
        },
        "id": "WyXZF0v930eO",
        "outputId": "1f7f4784-44a2-40a4-cbab-3dd88788d1e2"
      },
      "execution_count": 35,
      "outputs": [
        {
          "output_type": "execute_result",
          "data": {
            "text/plain": [
              "             Empresa  Valor ($) Data de Adesão    Pais     Cidade  \\\n",
              "0             Nubank      30.00     2018-03-01  Brazil  Sao Paulo   \n",
              "1        QuintoAndar       5.10     2019-09-09  Brazil   Campinas   \n",
              "2            C6 Bank       5.05     2020-12-02  Brazil  Sao Paulo   \n",
              "3          Nuvemshop       3.10     2021-08-17  Brazil  Sao Paulo   \n",
              "4   Wildlife Studios       3.00     2019-12-05  Brazil  Sao Paulo   \n",
              "5               Loft       2.90     2020-01-03  Brazil  Sao Paulo   \n",
              "6                  1       2.15     2021-09-08  Brazil  Sao Paulo   \n",
              "7              Loggi       2.00     2019-06-05  Brazil  Sao Paulo   \n",
              "8           Creditas       1.75     2020-12-18  Brazil  Sao Paulo   \n",
              "9             Movile       1.00     2018-07-12  Brazil  Sao Paulo   \n",
              "10             iFood       1.00     2018-11-13  Brazil     Osasco   \n",
              "11             EBANX       1.00     2019-10-16  Brazil   Curitiba   \n",
              "12    MadeiraMadeira       1.00     2021-01-07  Brazil     Parana   \n",
              "13             Unico       1.00     2021-08-03  Brazil  Sao Paulo   \n",
              "14            CargoX       1.00     2021-10-21  Brazil  Sao Paulo   \n",
              "\n",
              "                                  Setor  \\\n",
              "0                               Fintech   \n",
              "1       E-commerce & direct-to-consumer   \n",
              "2                               Fintech   \n",
              "3       E-commerce & direct-to-consumer   \n",
              "4                                 Other   \n",
              "5       E-commerce & direct-to-consumer   \n",
              "6                               Fintech   \n",
              "7   Supply chain, logistics, & delivery   \n",
              "8                               Fintech   \n",
              "9           Mobile & telecommunications   \n",
              "10  Supply chain, logistics, & delivery   \n",
              "11                              Fintech   \n",
              "12      E-commerce & direct-to-consumer   \n",
              "13              Artificial intelligence   \n",
              "14  Supply chain, logistics, & delivery   \n",
              "\n",
              "                                         Investidores  Mes   Ano  \n",
              "0   Sequoia Capital, Redpoint e.ventures, Kaszek V...    3  2018  \n",
              "1   Kaszek Ventures, General Atlantic, SoftBank Group    9  2019  \n",
              "2                                       Credit Suisse   12  2020  \n",
              "3           Kaszek Ventures, Qualcomm Ventures, Accel    8  2021  \n",
              "4                Benchmark, Bessemer Venture Partners   12  2019  \n",
              "5      Monashees+, Andreessen Horowitz, QED Investors    1  2020  \n",
              "6   Plug and Play Ventures, Valor Capital Group, D...    9  2021  \n",
              "7       Qualcomm Ventures, SoftBank Group. Monashees+    6  2019  \n",
              "8   Kaszek Ventures, Amadeus Capital Partners, Quo...   12  2020  \n",
              "9   Innova Capital - FIP, 3G Capital Management, P...    7  2018  \n",
              "10                          Movile, Just Eat, Naspers   11  2018  \n",
              "11                              FTV Capital, Endeavor   10  2019  \n",
              "12  Flybridge Capital Partners, SoftBank Group, Mo...    1  2021  \n",
              "13  Big Bets, General Atlantic, SOFTBANK Latin Ame...    8  2021  \n",
              "14     Valor Capital Group, Lightrock, Softbank Group   10  2021  "
            ],
            "text/html": [
              "\n",
              "  <div id=\"df-dd53e5a4-1e1e-4c32-8574-3ceca6f9920b\">\n",
              "    <div class=\"colab-df-container\">\n",
              "      <div>\n",
              "<style scoped>\n",
              "    .dataframe tbody tr th:only-of-type {\n",
              "        vertical-align: middle;\n",
              "    }\n",
              "\n",
              "    .dataframe tbody tr th {\n",
              "        vertical-align: top;\n",
              "    }\n",
              "\n",
              "    .dataframe thead th {\n",
              "        text-align: right;\n",
              "    }\n",
              "</style>\n",
              "<table border=\"1\" class=\"dataframe\">\n",
              "  <thead>\n",
              "    <tr style=\"text-align: right;\">\n",
              "      <th></th>\n",
              "      <th>Empresa</th>\n",
              "      <th>Valor ($)</th>\n",
              "      <th>Data de Adesão</th>\n",
              "      <th>Pais</th>\n",
              "      <th>Cidade</th>\n",
              "      <th>Setor</th>\n",
              "      <th>Investidores</th>\n",
              "      <th>Mes</th>\n",
              "      <th>Ano</th>\n",
              "    </tr>\n",
              "  </thead>\n",
              "  <tbody>\n",
              "    <tr>\n",
              "      <th>0</th>\n",
              "      <td>Nubank</td>\n",
              "      <td>30.00</td>\n",
              "      <td>2018-03-01</td>\n",
              "      <td>Brazil</td>\n",
              "      <td>Sao Paulo</td>\n",
              "      <td>Fintech</td>\n",
              "      <td>Sequoia Capital, Redpoint e.ventures, Kaszek V...</td>\n",
              "      <td>3</td>\n",
              "      <td>2018</td>\n",
              "    </tr>\n",
              "    <tr>\n",
              "      <th>1</th>\n",
              "      <td>QuintoAndar</td>\n",
              "      <td>5.10</td>\n",
              "      <td>2019-09-09</td>\n",
              "      <td>Brazil</td>\n",
              "      <td>Campinas</td>\n",
              "      <td>E-commerce &amp; direct-to-consumer</td>\n",
              "      <td>Kaszek Ventures, General Atlantic, SoftBank Group</td>\n",
              "      <td>9</td>\n",
              "      <td>2019</td>\n",
              "    </tr>\n",
              "    <tr>\n",
              "      <th>2</th>\n",
              "      <td>C6 Bank</td>\n",
              "      <td>5.05</td>\n",
              "      <td>2020-12-02</td>\n",
              "      <td>Brazil</td>\n",
              "      <td>Sao Paulo</td>\n",
              "      <td>Fintech</td>\n",
              "      <td>Credit Suisse</td>\n",
              "      <td>12</td>\n",
              "      <td>2020</td>\n",
              "    </tr>\n",
              "    <tr>\n",
              "      <th>3</th>\n",
              "      <td>Nuvemshop</td>\n",
              "      <td>3.10</td>\n",
              "      <td>2021-08-17</td>\n",
              "      <td>Brazil</td>\n",
              "      <td>Sao Paulo</td>\n",
              "      <td>E-commerce &amp; direct-to-consumer</td>\n",
              "      <td>Kaszek Ventures, Qualcomm Ventures, Accel</td>\n",
              "      <td>8</td>\n",
              "      <td>2021</td>\n",
              "    </tr>\n",
              "    <tr>\n",
              "      <th>4</th>\n",
              "      <td>Wildlife Studios</td>\n",
              "      <td>3.00</td>\n",
              "      <td>2019-12-05</td>\n",
              "      <td>Brazil</td>\n",
              "      <td>Sao Paulo</td>\n",
              "      <td>Other</td>\n",
              "      <td>Benchmark, Bessemer Venture Partners</td>\n",
              "      <td>12</td>\n",
              "      <td>2019</td>\n",
              "    </tr>\n",
              "    <tr>\n",
              "      <th>5</th>\n",
              "      <td>Loft</td>\n",
              "      <td>2.90</td>\n",
              "      <td>2020-01-03</td>\n",
              "      <td>Brazil</td>\n",
              "      <td>Sao Paulo</td>\n",
              "      <td>E-commerce &amp; direct-to-consumer</td>\n",
              "      <td>Monashees+, Andreessen Horowitz, QED Investors</td>\n",
              "      <td>1</td>\n",
              "      <td>2020</td>\n",
              "    </tr>\n",
              "    <tr>\n",
              "      <th>6</th>\n",
              "      <td>1</td>\n",
              "      <td>2.15</td>\n",
              "      <td>2021-09-08</td>\n",
              "      <td>Brazil</td>\n",
              "      <td>Sao Paulo</td>\n",
              "      <td>Fintech</td>\n",
              "      <td>Plug and Play Ventures, Valor Capital Group, D...</td>\n",
              "      <td>9</td>\n",
              "      <td>2021</td>\n",
              "    </tr>\n",
              "    <tr>\n",
              "      <th>7</th>\n",
              "      <td>Loggi</td>\n",
              "      <td>2.00</td>\n",
              "      <td>2019-06-05</td>\n",
              "      <td>Brazil</td>\n",
              "      <td>Sao Paulo</td>\n",
              "      <td>Supply chain, logistics, &amp; delivery</td>\n",
              "      <td>Qualcomm Ventures, SoftBank Group. Monashees+</td>\n",
              "      <td>6</td>\n",
              "      <td>2019</td>\n",
              "    </tr>\n",
              "    <tr>\n",
              "      <th>8</th>\n",
              "      <td>Creditas</td>\n",
              "      <td>1.75</td>\n",
              "      <td>2020-12-18</td>\n",
              "      <td>Brazil</td>\n",
              "      <td>Sao Paulo</td>\n",
              "      <td>Fintech</td>\n",
              "      <td>Kaszek Ventures, Amadeus Capital Partners, Quo...</td>\n",
              "      <td>12</td>\n",
              "      <td>2020</td>\n",
              "    </tr>\n",
              "    <tr>\n",
              "      <th>9</th>\n",
              "      <td>Movile</td>\n",
              "      <td>1.00</td>\n",
              "      <td>2018-07-12</td>\n",
              "      <td>Brazil</td>\n",
              "      <td>Sao Paulo</td>\n",
              "      <td>Mobile &amp; telecommunications</td>\n",
              "      <td>Innova Capital - FIP, 3G Capital Management, P...</td>\n",
              "      <td>7</td>\n",
              "      <td>2018</td>\n",
              "    </tr>\n",
              "    <tr>\n",
              "      <th>10</th>\n",
              "      <td>iFood</td>\n",
              "      <td>1.00</td>\n",
              "      <td>2018-11-13</td>\n",
              "      <td>Brazil</td>\n",
              "      <td>Osasco</td>\n",
              "      <td>Supply chain, logistics, &amp; delivery</td>\n",
              "      <td>Movile, Just Eat, Naspers</td>\n",
              "      <td>11</td>\n",
              "      <td>2018</td>\n",
              "    </tr>\n",
              "    <tr>\n",
              "      <th>11</th>\n",
              "      <td>EBANX</td>\n",
              "      <td>1.00</td>\n",
              "      <td>2019-10-16</td>\n",
              "      <td>Brazil</td>\n",
              "      <td>Curitiba</td>\n",
              "      <td>Fintech</td>\n",
              "      <td>FTV Capital, Endeavor</td>\n",
              "      <td>10</td>\n",
              "      <td>2019</td>\n",
              "    </tr>\n",
              "    <tr>\n",
              "      <th>12</th>\n",
              "      <td>MadeiraMadeira</td>\n",
              "      <td>1.00</td>\n",
              "      <td>2021-01-07</td>\n",
              "      <td>Brazil</td>\n",
              "      <td>Parana</td>\n",
              "      <td>E-commerce &amp; direct-to-consumer</td>\n",
              "      <td>Flybridge Capital Partners, SoftBank Group, Mo...</td>\n",
              "      <td>1</td>\n",
              "      <td>2021</td>\n",
              "    </tr>\n",
              "    <tr>\n",
              "      <th>13</th>\n",
              "      <td>Unico</td>\n",
              "      <td>1.00</td>\n",
              "      <td>2021-08-03</td>\n",
              "      <td>Brazil</td>\n",
              "      <td>Sao Paulo</td>\n",
              "      <td>Artificial intelligence</td>\n",
              "      <td>Big Bets, General Atlantic, SOFTBANK Latin Ame...</td>\n",
              "      <td>8</td>\n",
              "      <td>2021</td>\n",
              "    </tr>\n",
              "    <tr>\n",
              "      <th>14</th>\n",
              "      <td>CargoX</td>\n",
              "      <td>1.00</td>\n",
              "      <td>2021-10-21</td>\n",
              "      <td>Brazil</td>\n",
              "      <td>Sao Paulo</td>\n",
              "      <td>Supply chain, logistics, &amp; delivery</td>\n",
              "      <td>Valor Capital Group, Lightrock, Softbank Group</td>\n",
              "      <td>10</td>\n",
              "      <td>2021</td>\n",
              "    </tr>\n",
              "  </tbody>\n",
              "</table>\n",
              "</div>\n",
              "      <button class=\"colab-df-convert\" onclick=\"convertToInteractive('df-dd53e5a4-1e1e-4c32-8574-3ceca6f9920b')\"\n",
              "              title=\"Convert this dataframe to an interactive table.\"\n",
              "              style=\"display:none;\">\n",
              "        \n",
              "  <svg xmlns=\"http://www.w3.org/2000/svg\" height=\"24px\"viewBox=\"0 0 24 24\"\n",
              "       width=\"24px\">\n",
              "    <path d=\"M0 0h24v24H0V0z\" fill=\"none\"/>\n",
              "    <path d=\"M18.56 5.44l.94 2.06.94-2.06 2.06-.94-2.06-.94-.94-2.06-.94 2.06-2.06.94zm-11 1L8.5 8.5l.94-2.06 2.06-.94-2.06-.94L8.5 2.5l-.94 2.06-2.06.94zm10 10l.94 2.06.94-2.06 2.06-.94-2.06-.94-.94-2.06-.94 2.06-2.06.94z\"/><path d=\"M17.41 7.96l-1.37-1.37c-.4-.4-.92-.59-1.43-.59-.52 0-1.04.2-1.43.59L10.3 9.45l-7.72 7.72c-.78.78-.78 2.05 0 2.83L4 21.41c.39.39.9.59 1.41.59.51 0 1.02-.2 1.41-.59l7.78-7.78 2.81-2.81c.8-.78.8-2.07 0-2.86zM5.41 20L4 18.59l7.72-7.72 1.47 1.35L5.41 20z\"/>\n",
              "  </svg>\n",
              "      </button>\n",
              "      \n",
              "  <style>\n",
              "    .colab-df-container {\n",
              "      display:flex;\n",
              "      flex-wrap:wrap;\n",
              "      gap: 12px;\n",
              "    }\n",
              "\n",
              "    .colab-df-convert {\n",
              "      background-color: #E8F0FE;\n",
              "      border: none;\n",
              "      border-radius: 50%;\n",
              "      cursor: pointer;\n",
              "      display: none;\n",
              "      fill: #1967D2;\n",
              "      height: 32px;\n",
              "      padding: 0 0 0 0;\n",
              "      width: 32px;\n",
              "    }\n",
              "\n",
              "    .colab-df-convert:hover {\n",
              "      background-color: #E2EBFA;\n",
              "      box-shadow: 0px 1px 2px rgba(60, 64, 67, 0.3), 0px 1px 3px 1px rgba(60, 64, 67, 0.15);\n",
              "      fill: #174EA6;\n",
              "    }\n",
              "\n",
              "    [theme=dark] .colab-df-convert {\n",
              "      background-color: #3B4455;\n",
              "      fill: #D2E3FC;\n",
              "    }\n",
              "\n",
              "    [theme=dark] .colab-df-convert:hover {\n",
              "      background-color: #434B5C;\n",
              "      box-shadow: 0px 1px 3px 1px rgba(0, 0, 0, 0.15);\n",
              "      filter: drop-shadow(0px 1px 2px rgba(0, 0, 0, 0.3));\n",
              "      fill: #FFFFFF;\n",
              "    }\n",
              "  </style>\n",
              "\n",
              "      <script>\n",
              "        const buttonEl =\n",
              "          document.querySelector('#df-dd53e5a4-1e1e-4c32-8574-3ceca6f9920b button.colab-df-convert');\n",
              "        buttonEl.style.display =\n",
              "          google.colab.kernel.accessAllowed ? 'block' : 'none';\n",
              "\n",
              "        async function convertToInteractive(key) {\n",
              "          const element = document.querySelector('#df-dd53e5a4-1e1e-4c32-8574-3ceca6f9920b');\n",
              "          const dataTable =\n",
              "            await google.colab.kernel.invokeFunction('convertToInteractive',\n",
              "                                                     [key], {});\n",
              "          if (!dataTable) return;\n",
              "\n",
              "          const docLinkHtml = 'Like what you see? Visit the ' +\n",
              "            '<a target=\"_blank\" href=https://colab.research.google.com/notebooks/data_table.ipynb>data table notebook</a>'\n",
              "            + ' to learn more about interactive tables.';\n",
              "          element.innerHTML = '';\n",
              "          dataTable['output_type'] = 'display_data';\n",
              "          await google.colab.output.renderOutput(dataTable, element);\n",
              "          const docLink = document.createElement('div');\n",
              "          docLink.innerHTML = docLinkHtml;\n",
              "          element.appendChild(docLink);\n",
              "        }\n",
              "      </script>\n",
              "    </div>\n",
              "  </div>\n",
              "  "
            ]
          },
          "metadata": {},
          "execution_count": 35
        }
      ]
    },
    {
      "cell_type": "code",
      "source": [
        "print('Temos',Base_Brasil.shape[0],'unicórnios originados no Brasil.')"
      ],
      "metadata": {
        "colab": {
          "base_uri": "https://localhost:8080/"
        },
        "id": "3wdZGpsF6rk8",
        "outputId": "70d4a35f-1341-4cc1-f26b-4bcfc8688117"
      },
      "execution_count": 36,
      "outputs": [
        {
          "output_type": "stream",
          "name": "stdout",
          "text": [
            "Temos 15 unicórnios originados no Brasil.\n"
          ]
        }
      ]
    },
    {
      "cell_type": "code",
      "source": [
        "#Verificando qual cidade do Brasil teve maior ocorrencia\n",
        "\n",
        "sns.countplot(data=Base_Brasil,\n",
        "              x =Base_Brasil['Cidade'] \n",
        "              )\n",
        "sns.distplot().set_title(\n",
        "  'Quantidade de Unicórnios por Cidade no Brasil', fontdict = { 'fontsize': 15});\n",
        "\n"
      ],
      "metadata": {
        "colab": {
          "base_uri": "https://localhost:8080/",
          "height": 298
        },
        "id": "Ew-OS5u35-WJ",
        "outputId": "6d947796-e12b-4d49-a48a-61b43227faab"
      },
      "execution_count": 37,
      "outputs": [
        {
          "output_type": "display_data",
          "data": {
            "text/plain": [
              "<Figure size 432x288 with 1 Axes>"
            ],
            "image/png": "[encoded data removed]"
          },
          "metadata": {
            "needs_background": "light"
          }
        }
      ]
    },
    {
      "cell_type": "code",
      "source": [
        "# grafico sobre os setores no Brasil\n",
        "plt.figure( figsize=(15,6) )\n",
        "plt.title('Analise de Valores por Setor')\n",
        "plt.bar(Base_Brasil['Setor'],\n",
        "      Base_Brasil['Valor ($)'], \n",
        "      color = 'blue' )\n",
        "plt.xticks( rotation=45, ha='right' );"
      ],
      "metadata": {
        "colab": {
          "base_uri": "https://localhost:8080/",
          "height": 508
        },
        "id": "SXE6SCDZ7Ld3",
        "outputId": "c338e07f-c04a-4a4b-e1aa-a600a5a6e9aa"
      },
      "execution_count": 38,
      "outputs": [
        {
          "output_type": "display_data",
          "data": {
            "text/plain": [
              "<Figure size 1080x432 with 1 Axes>"
            ],
            "image/png": "[encoded data removed]"
          },
          "metadata": {
            "needs_background": "light"
          }
        }
      ]
    },
    {
      "cell_type": "markdown",
      "source": [
        "# Análise Ano"
      ],
      "metadata": {
        "id": "lf-HN8vjA43n"
      }
    },
    {
      "cell_type": "markdown",
      "source": [
        "Vamos fazer algumas analises de series temporais.\n"
      ],
      "metadata": {
        "id": "_wLHN1-8U6yc"
      }
    },
    {
      "cell_type": "code",
      "source": [
        "#Ano - Tabela Analitica\n",
        "Analise_Ano = Base.groupby( by=['Ano','Empresa','Valor ($)'] ).count()['Id'].reset_index()\n",
        "Quantidade_Ano = Analise_Ano['Empresa'].groupby(Analise_Ano['Ano']).count().reset_index()\n",
        "Valor_Ano = Analise_Ano['Valor ($)'].groupby(Analise_Ano['Ano']).sum().reset_index()\n",
        "Analise_Ano = Quantidade_Ano.merge(Valor_Ano, how ='inner' )\n",
        "Analise_Ano.rename(columns = {'Empresa':'Quantidade'},inplace = True)\n",
        "Analise_Ano"
      ],
      "metadata": {
        "colab": {
          "base_uri": "https://localhost:8080/",
          "height": 457
        },
        "id": "uPqeOhNTVBA5",
        "outputId": "23b532f6-ed16-4486-eff1-c21256ff44de"
      },
      "execution_count": 39,
      "outputs": [
        {
          "output_type": "execute_result",
          "data": {
            "text/plain": [
              "     Ano  Quantidade  Valor ($)\n",
              "0   2007           1       1.38\n",
              "1   2010           1       3.00\n",
              "2   2011           2      51.30\n",
              "3   2012           4     122.30\n",
              "4   2013           3       4.30\n",
              "5   2014          13     165.38\n",
              "6   2015          37      99.55\n",
              "7   2016          22      81.04\n",
              "8   2017          46     296.14\n",
              "9   2018         107     495.47\n",
              "10  2019         110     416.08\n",
              "11  2020         110     362.48\n",
              "12  2021         480     972.74"
            ],
            "text/html": [
              "\n",
              "  <div id=\"df-d7727c04-e50a-4376-98e8-b3c6b56d6bbd\">\n",
              "    <div class=\"colab-df-container\">\n",
              "      <div>\n",
              "<style scoped>\n",
              "    .dataframe tbody tr th:only-of-type {\n",
              "        vertical-align: middle;\n",
              "    }\n",
              "\n",
              "    .dataframe tbody tr th {\n",
              "        vertical-align: top;\n",
              "    }\n",
              "\n",
              "    .dataframe thead th {\n",
              "        text-align: right;\n",
              "    }\n",
              "</style>\n",
              "<table border=\"1\" class=\"dataframe\">\n",
              "  <thead>\n",
              "    <tr style=\"text-align: right;\">\n",
              "      <th></th>\n",
              "      <th>Ano</th>\n",
              "      <th>Quantidade</th>\n",
              "      <th>Valor ($)</th>\n",
              "    </tr>\n",
              "  </thead>\n",
              "  <tbody>\n",
              "    <tr>\n",
              "      <th>0</th>\n",
              "      <td>2007</td>\n",
              "      <td>1</td>\n",
              "      <td>1.38</td>\n",
              "    </tr>\n",
              "    <tr>\n",
              "      <th>1</th>\n",
              "      <td>2010</td>\n",
              "      <td>1</td>\n",
              "      <td>3.00</td>\n",
              "    </tr>\n",
              "    <tr>\n",
              "      <th>2</th>\n",
              "      <td>2011</td>\n",
              "      <td>2</td>\n",
              "      <td>51.30</td>\n",
              "    </tr>\n",
              "    <tr>\n",
              "      <th>3</th>\n",
              "      <td>2012</td>\n",
              "      <td>4</td>\n",
              "      <td>122.30</td>\n",
              "    </tr>\n",
              "    <tr>\n",
              "      <th>4</th>\n",
              "      <td>2013</td>\n",
              "      <td>3</td>\n",
              "      <td>4.30</td>\n",
              "    </tr>\n",
              "    <tr>\n",
              "      <th>5</th>\n",
              "      <td>2014</td>\n",
              "      <td>13</td>\n",
              "      <td>165.38</td>\n",
              "    </tr>\n",
              "    <tr>\n",
              "      <th>6</th>\n",
              "      <td>2015</td>\n",
              "      <td>37</td>\n",
              "      <td>99.55</td>\n",
              "    </tr>\n",
              "    <tr>\n",
              "      <th>7</th>\n",
              "      <td>2016</td>\n",
              "      <td>22</td>\n",
              "      <td>81.04</td>\n",
              "    </tr>\n",
              "    <tr>\n",
              "      <th>8</th>\n",
              "      <td>2017</td>\n",
              "      <td>46</td>\n",
              "      <td>296.14</td>\n",
              "    </tr>\n",
              "    <tr>\n",
              "      <th>9</th>\n",
              "      <td>2018</td>\n",
              "      <td>107</td>\n",
              "      <td>495.47</td>\n",
              "    </tr>\n",
              "    <tr>\n",
              "      <th>10</th>\n",
              "      <td>2019</td>\n",
              "      <td>110</td>\n",
              "      <td>416.08</td>\n",
              "    </tr>\n",
              "    <tr>\n",
              "      <th>11</th>\n",
              "      <td>2020</td>\n",
              "      <td>110</td>\n",
              "      <td>362.48</td>\n",
              "    </tr>\n",
              "    <tr>\n",
              "      <th>12</th>\n",
              "      <td>2021</td>\n",
              "      <td>480</td>\n",
              "      <td>972.74</td>\n",
              "    </tr>\n",
              "  </tbody>\n",
              "</table>\n",
              "</div>\n",
              "      <button class=\"colab-df-convert\" onclick=\"convertToInteractive('df-d7727c04-e50a-4376-98e8-b3c6b56d6bbd')\"\n",
              "              title=\"Convert this dataframe to an interactive table.\"\n",
              "              style=\"display:none;\">\n",
              "        \n",
              "  <svg xmlns=\"http://www.w3.org/2000/svg\" height=\"24px\"viewBox=\"0 0 24 24\"\n",
              "       width=\"24px\">\n",
              "    <path d=\"M0 0h24v24H0V0z\" fill=\"none\"/>\n",
              "    <path d=\"M18.56 5.44l.94 2.06.94-2.06 2.06-.94-2.06-.94-.94-2.06-.94 2.06-2.06.94zm-11 1L8.5 8.5l.94-2.06 2.06-.94-2.06-.94L8.5 2.5l-.94 2.06-2.06.94zm10 10l.94 2.06.94-2.06 2.06-.94-2.06-.94-.94-2.06-.94 2.06-2.06.94z\"/><path d=\"M17.41 7.96l-1.37-1.37c-.4-.4-.92-.59-1.43-.59-.52 0-1.04.2-1.43.59L10.3 9.45l-7.72 7.72c-.78.78-.78 2.05 0 2.83L4 21.41c.39.39.9.59 1.41.59.51 0 1.02-.2 1.41-.59l7.78-7.78 2.81-2.81c.8-.78.8-2.07 0-2.86zM5.41 20L4 18.59l7.72-7.72 1.47 1.35L5.41 20z\"/>\n",
              "  </svg>\n",
              "      </button>\n",
              "      \n",
              "  <style>\n",
              "    .colab-df-container {\n",
              "      display:flex;\n",
              "      flex-wrap:wrap;\n",
              "      gap: 12px;\n",
              "    }\n",
              "\n",
              "    .colab-df-convert {\n",
              "      background-color: #E8F0FE;\n",
              "      border: none;\n",
              "      border-radius: 50%;\n",
              "      cursor: pointer;\n",
              "      display: none;\n",
              "      fill: #1967D2;\n",
              "      height: 32px;\n",
              "      padding: 0 0 0 0;\n",
              "      width: 32px;\n",
              "    }\n",
              "\n",
              "    .colab-df-convert:hover {\n",
              "      background-color: #E2EBFA;\n",
              "      box-shadow: 0px 1px 2px rgba(60, 64, 67, 0.3), 0px 1px 3px 1px rgba(60, 64, 67, 0.15);\n",
              "      fill: #174EA6;\n",
              "    }\n",
              "\n",
              "    [theme=dark] .colab-df-convert {\n",
              "      background-color: #3B4455;\n",
              "      fill: #D2E3FC;\n",
              "    }\n",
              "\n",
              "    [theme=dark] .colab-df-convert:hover {\n",
              "      background-color: #434B5C;\n",
              "      box-shadow: 0px 1px 3px 1px rgba(0, 0, 0, 0.15);\n",
              "      filter: drop-shadow(0px 1px 2px rgba(0, 0, 0, 0.3));\n",
              "      fill: #FFFFFF;\n",
              "    }\n",
              "  </style>\n",
              "\n",
              "      <script>\n",
              "        const buttonEl =\n",
              "          document.querySelector('#df-d7727c04-e50a-4376-98e8-b3c6b56d6bbd button.colab-df-convert');\n",
              "        buttonEl.style.display =\n",
              "          google.colab.kernel.accessAllowed ? 'block' : 'none';\n",
              "\n",
              "        async function convertToInteractive(key) {\n",
              "          const element = document.querySelector('#df-d7727c04-e50a-4376-98e8-b3c6b56d6bbd');\n",
              "          const dataTable =\n",
              "            await google.colab.kernel.invokeFunction('convertToInteractive',\n",
              "                                                     [key], {});\n",
              "          if (!dataTable) return;\n",
              "\n",
              "          const docLinkHtml = 'Like what you see? Visit the ' +\n",
              "            '<a target=\"_blank\" href=https://colab.research.google.com/notebooks/data_table.ipynb>data table notebook</a>'\n",
              "            + ' to learn more about interactive tables.';\n",
              "          element.innerHTML = '';\n",
              "          dataTable['output_type'] = 'display_data';\n",
              "          await google.colab.output.renderOutput(dataTable, element);\n",
              "          const docLink = document.createElement('div');\n",
              "          docLink.innerHTML = docLinkHtml;\n",
              "          element.appendChild(docLink);\n",
              "        }\n",
              "      </script>\n",
              "    </div>\n",
              "  </div>\n",
              "  "
            ]
          },
          "metadata": {},
          "execution_count": 39
        }
      ]
    },
    {
      "cell_type": "code",
      "source": [
        "#plotando a quantidade por ano\n",
        "plt.figure(figsize=(10,8))\n",
        "plt.title('Unicornios por Ano')\n",
        "plt.xlabel('Ano')\n",
        "plt.ylabel('Quantidade de Unicornios')\n",
        "plt.plot(\n",
        "    Analise_Ano['Ano'],\n",
        "    Analise_Ano['Quantidade'],\n",
        "    color = 'orange'\n",
        ");"
      ],
      "metadata": {
        "colab": {
          "base_uri": "https://localhost:8080/",
          "height": 513
        },
        "id": "hFJgICwnWs7H",
        "outputId": "2a1f70df-d10c-4a89-af8e-5f7529f41011"
      },
      "execution_count": 40,
      "outputs": [
        {
          "output_type": "display_data",
          "data": {
            "text/plain": [
              "<Figure size 720x576 with 1 Axes>"
            ],
            "image/png": "[encoded data removed]"
          },
          "metadata": {
            "needs_background": "light"
          }
        }
      ]
    },
    {
      "cell_type": "markdown",
      "source": [
        "Observamos que de 2020 para 2021 temos um crescimento muito grande.\n",
        "\n",
        "Mas será que em valor também?"
      ],
      "metadata": {
        "id": "IJcLte_EYuPj"
      }
    },
    {
      "cell_type": "code",
      "source": [
        "#plotando grafico de valores por ano\n",
        "plt.figure(figsize = (8,10))\n",
        "\n",
        "sns.barplot(\n",
        "    Analise_Ano,\n",
        "    x= Analise_Ano['Ano'],\n",
        "    y = Analise_Ano['Valor ($)']\n",
        "  )\n",
        "sns.distplot().set_title(\n",
        "  'Valor de Unicórnios por Ano', fontdict = { 'fontsize': 15})\n",
        "plt.show()"
      ],
      "metadata": {
        "colab": {
          "base_uri": "https://localhost:8080/",
          "height": 624
        },
        "id": "d6KmVSY3xcms",
        "outputId": "92f1879f-4e4f-430d-a226-20b8b498c8c3"
      },
      "execution_count": 41,
      "outputs": [
        {
          "output_type": "display_data",
          "data": {
            "text/plain": [
              "<Figure size 576x720 with 1 Axes>"
            ],
            "image/png": "[encoded data removed]"
          },
          "metadata": {
            "needs_background": "light"
          }
        }
      ]
    },
    {
      "cell_type": "markdown",
      "source": [
        "Verificamos que em questão de valores oscila bastante em comparação com a quiantidade por ano.\n",
        "\n"
      ],
      "metadata": {
        "id": "fhukiOw171g3"
      }
    },
    {
      "cell_type": "markdown",
      "source": [
        "# Conclusão\n",
        "\n"
      ],
      "metadata": {
        "id": "NhHT7eKHIjwU"
      }
    },
    {
      "cell_type": "markdown",
      "source": [
        "<b>Qual setor é o predominante?</b>\n",
        "<p>R: O setor Fintech, mas o que tem mais valor seria o de Inteligência Artificial.</p>\n",
        "\n",
        "<b>Qual ano foi predominante?</b>\n",
        "<p>R: Vemos uma forte evolução ao decorrer dos anos, o ano que teve maior qauntidade e valor foi o de 2021.</p>\n",
        "\n",
        "<b>Qual país tem mais empresas?</b>\n",
        "<p>Os Estados Unidos predomina, e a dentro dele a cidade de São Francisco. </p>\n",
        "\n",
        "<b>O Brasil é expressivo dentros dos paises que geram unicórnios?</b>\n",
        "<p>Sim, está entre os Top 10 na questão de quantidade e valor e as as empresas predomina na cidade de São Paulo.</p>\n",
        "\n"
      ],
      "metadata": {
        "id": "f1b5YDtiIqYe"
      }
    }
  ]
}